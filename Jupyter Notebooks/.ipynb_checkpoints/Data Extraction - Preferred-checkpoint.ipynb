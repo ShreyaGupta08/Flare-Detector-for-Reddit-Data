{
 "cells": [
  {
   "cell_type": "markdown",
   "metadata": {},
   "source": [
    "## Preferred form of data extraction, that extracts data based on post flairs and not the hottest posts"
   ]
  },
  {
   "cell_type": "code",
   "execution_count": 1,
   "metadata": {},
   "outputs": [],
   "source": [
    "import pandas as pd\n",
    "import praw #PRAW is the API being used to scrap data from Reddit"
   ]
  },
  {
   "cell_type": "code",
   "execution_count": null,
   "metadata": {},
   "outputs": [],
   "source": [
    "### Creating a reddit instance by authenticating ourselves\n",
    "reddit = praw.Reddit(client_id='', client_secret='', user_agent='', password='', username='')"
   ]
  },
  {
   "cell_type": "markdown",
   "metadata": {},
   "source": [
    "### Note: The client_id, client_secret and password are anonymised to prevent privacy"
   ]
  },
  {
   "cell_type": "markdown",
   "metadata": {},
   "source": [
    "1. get subreddit info of india subreddit"
   ]
  },
  {
   "cell_type": "code",
   "execution_count": null,
   "metadata": {},
   "outputs": [],
   "source": [
    "india_subreddit = reddit.subreddit('India')"
   ]
  },
  {
   "cell_type": "markdown",
   "metadata": {},
   "source": [
    "2. Extracting the possible flairs"
   ]
  },
  {
   "cell_type": "code",
   "execution_count": 3,
   "metadata": {},
   "outputs": [
    {
     "data": {
      "text/plain": [
       "['Politics',\n",
       " 'Non-Political',\n",
       " 'AskIndia',\n",
       " 'Policy/Economy',\n",
       " 'Business/Finance',\n",
       " 'Science/Technology',\n",
       " 'Scheduled',\n",
       " 'Sports',\n",
       " 'Food',\n",
       " 'Photography',\n",
       " 'CAA-NRC-NPR',\n",
       " 'Coronavirus']"
      ]
     },
     "execution_count": 3,
     "metadata": {},
     "output_type": "execute_result"
    }
   ],
   "source": [
    "def get_possible_flairs(subreddit):\n",
    "    possibleflairs = []\n",
    "\n",
    "    for template in subreddit.flair.link_templates:\n",
    "        possibleflairs.append(template[\"text\"])\n",
    "    return possibleflairs\n",
    "\n",
    "possibleflairs = get_possible_flairs(india_subreddit)\n",
    "possibleflairs"
   ]
  },
  {
   "cell_type": "markdown",
   "metadata": {},
   "source": [
    "### New way of data extraction"
   ]
  },
  {
   "cell_type": "code",
   "execution_count": 4,
   "metadata": {},
   "outputs": [
    {
     "data": {
      "text/html": [
       "<div>\n",
       "<style scoped>\n",
       "    .dataframe tbody tr th:only-of-type {\n",
       "        vertical-align: middle;\n",
       "    }\n",
       "\n",
       "    .dataframe tbody tr th {\n",
       "        vertical-align: top;\n",
       "    }\n",
       "\n",
       "    .dataframe thead th {\n",
       "        text-align: right;\n",
       "    }\n",
       "</style>\n",
       "<table border=\"1\" class=\"dataframe\">\n",
       "  <thead>\n",
       "    <tr style=\"text-align: right;\">\n",
       "      <th></th>\n",
       "      <th>Title</th>\n",
       "      <th>id</th>\n",
       "      <th>url</th>\n",
       "      <th>content</th>\n",
       "      <th>flair</th>\n",
       "    </tr>\n",
       "  </thead>\n",
       "  <tbody>\n",
       "    <tr>\n",
       "      <th>0</th>\n",
       "      <td>Pitting a community against a political party ...</td>\n",
       "      <td>futac9</td>\n",
       "      <td>https://www.reddit.com/r/india/comments/futac9...</td>\n",
       "      <td>First of all let me start by saying it was stu...</td>\n",
       "      <td>Politics</td>\n",
       "    </tr>\n",
       "    <tr>\n",
       "      <th>1</th>\n",
       "      <td>Hit by backlash over posts on lack of medical ...</td>\n",
       "      <td>fpaj1w</td>\n",
       "      <td>https://theprint.in/india/hit-by-backlash-over...</td>\n",
       "      <td></td>\n",
       "      <td>Politics</td>\n",
       "    </tr>\n",
       "    <tr>\n",
       "      <th>2</th>\n",
       "      <td>Politics in the time of corona: WB CM question...</td>\n",
       "      <td>fxs1vy</td>\n",
       "      <td>https://www.timesnownews.com/india/article/pol...</td>\n",
       "      <td></td>\n",
       "      <td>Politics</td>\n",
       "    </tr>\n",
       "    <tr>\n",
       "      <th>3</th>\n",
       "      <td>A new political party gave a full front page a...</td>\n",
       "      <td>ff8sth</td>\n",
       "      <td>https://i.redd.it/yjo9wpy38el41.jpg</td>\n",
       "      <td></td>\n",
       "      <td>Politics</td>\n",
       "    </tr>\n",
       "    <tr>\n",
       "      <th>4</th>\n",
       "      <td>I’ve been curious, which Indian politicians do...</td>\n",
       "      <td>fs887w</td>\n",
       "      <td>https://www.reddit.com/r/india/comments/fs887w...</td>\n",
       "      <td>Personally, I would pick Kerala-CM, Pinarayi V...</td>\n",
       "      <td>Politics</td>\n",
       "    </tr>\n",
       "    <tr>\n",
       "      <th>...</th>\n",
       "      <td>...</td>\n",
       "      <td>...</td>\n",
       "      <td>...</td>\n",
       "      <td>...</td>\n",
       "      <td>...</td>\n",
       "    </tr>\n",
       "    <tr>\n",
       "      <th>2658</th>\n",
       "      <td>17 new coronavirus cases reported in Jammu and...</td>\n",
       "      <td>fwc8kv</td>\n",
       "      <td>https://www.livemint.com/news/india/17-new-cor...</td>\n",
       "      <td></td>\n",
       "      <td>Coronavirus</td>\n",
       "    </tr>\n",
       "    <tr>\n",
       "      <th>2659</th>\n",
       "      <td>Coronavirus | Municipalities using Smart Citie...</td>\n",
       "      <td>fwf2cd</td>\n",
       "      <td>https://www.thehindu.com/news/national/coronav...</td>\n",
       "      <td></td>\n",
       "      <td>Coronavirus</td>\n",
       "    </tr>\n",
       "    <tr>\n",
       "      <th>2660</th>\n",
       "      <td>China’s blunders in Wuhan should settle the de...</td>\n",
       "      <td>fx5rrr</td>\n",
       "      <td>https://theprint.in/opinion/china-blunders-wuh...</td>\n",
       "      <td></td>\n",
       "      <td>Coronavirus</td>\n",
       "    </tr>\n",
       "    <tr>\n",
       "      <th>2661</th>\n",
       "      <td>Coronavirus Cases Doubling Every 4 Days, Set T...</td>\n",
       "      <td>fw9x5s</td>\n",
       "      <td>https://www.ndtv.com/india-news/coronavirus-in...</td>\n",
       "      <td></td>\n",
       "      <td>Coronavirus</td>\n",
       "    </tr>\n",
       "    <tr>\n",
       "      <th>2662</th>\n",
       "      <td>TikTok Videos Aimed At Misleading Indian Musli...</td>\n",
       "      <td>fvzaa1</td>\n",
       "      <td>https://www.youtube.com/watch?v=mG2WBTdbJiE</td>\n",
       "      <td></td>\n",
       "      <td>Coronavirus</td>\n",
       "    </tr>\n",
       "  </tbody>\n",
       "</table>\n",
       "<p>2663 rows × 5 columns</p>\n",
       "</div>"
      ],
      "text/plain": [
       "                                                  Title      id  \\\n",
       "0     Pitting a community against a political party ...  futac9   \n",
       "1     Hit by backlash over posts on lack of medical ...  fpaj1w   \n",
       "2     Politics in the time of corona: WB CM question...  fxs1vy   \n",
       "3     A new political party gave a full front page a...  ff8sth   \n",
       "4     I’ve been curious, which Indian politicians do...  fs887w   \n",
       "...                                                 ...     ...   \n",
       "2658  17 new coronavirus cases reported in Jammu and...  fwc8kv   \n",
       "2659  Coronavirus | Municipalities using Smart Citie...  fwf2cd   \n",
       "2660  China’s blunders in Wuhan should settle the de...  fx5rrr   \n",
       "2661  Coronavirus Cases Doubling Every 4 Days, Set T...  fw9x5s   \n",
       "2662  TikTok Videos Aimed At Misleading Indian Musli...  fvzaa1   \n",
       "\n",
       "                                                    url  \\\n",
       "0     https://www.reddit.com/r/india/comments/futac9...   \n",
       "1     https://theprint.in/india/hit-by-backlash-over...   \n",
       "2     https://www.timesnownews.com/india/article/pol...   \n",
       "3                   https://i.redd.it/yjo9wpy38el41.jpg   \n",
       "4     https://www.reddit.com/r/india/comments/fs887w...   \n",
       "...                                                 ...   \n",
       "2658  https://www.livemint.com/news/india/17-new-cor...   \n",
       "2659  https://www.thehindu.com/news/national/coronav...   \n",
       "2660  https://theprint.in/opinion/china-blunders-wuh...   \n",
       "2661  https://www.ndtv.com/india-news/coronavirus-in...   \n",
       "2662        https://www.youtube.com/watch?v=mG2WBTdbJiE   \n",
       "\n",
       "                                                content        flair  \n",
       "0     First of all let me start by saying it was stu...     Politics  \n",
       "1                                                           Politics  \n",
       "2                                                           Politics  \n",
       "3                                                           Politics  \n",
       "4     Personally, I would pick Kerala-CM, Pinarayi V...     Politics  \n",
       "...                                                 ...          ...  \n",
       "2658                                                     Coronavirus  \n",
       "2659                                                     Coronavirus  \n",
       "2660                                                     Coronavirus  \n",
       "2661                                                     Coronavirus  \n",
       "2662                                                     Coronavirus  \n",
       "\n",
       "[2663 rows x 5 columns]"
      ]
     },
     "execution_count": 4,
     "metadata": {},
     "output_type": "execute_result"
    }
   ],
   "source": [
    "newDataset = []\n",
    "for flair in possibleflairs:\n",
    "    for sub in india_subreddit.search(flair, limit=500):\n",
    "        newDataset.append([sub.title, sub.id, sub.url, sub.selftext, flair])\n",
    "newDataset = pd.DataFrame(newDataset, columns=['Title', 'id', 'url', 'content', 'flair'])\n",
    "newDataset"
   ]
  },
  {
   "cell_type": "code",
   "execution_count": 5,
   "metadata": {},
   "outputs": [],
   "source": [
    "# step 5: save the data in a csv\n",
    "newDataset.to_csv('newdataset.csv', index=False) \n",
    "\n",
    "#index=False will prevent the row numbers from being saved as an independent column/attribute in the saved csv file"
   ]
  }
 ],
 "metadata": {
  "kernelspec": {
   "display_name": "Python 3",
   "language": "python",
   "name": "python3"
  },
  "language_info": {
   "codemirror_mode": {
    "name": "ipython",
    "version": 3
   },
   "file_extension": ".py",
   "mimetype": "text/x-python",
   "name": "python",
   "nbconvert_exporter": "python",
   "pygments_lexer": "ipython3",
   "version": "3.7.6"
  }
 },
 "nbformat": 4,
 "nbformat_minor": 4
}
